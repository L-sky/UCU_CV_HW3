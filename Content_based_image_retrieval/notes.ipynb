{
 "cells": [
  {
   "cell_type": "code",
   "execution_count": 17,
   "metadata": {},
   "outputs": [],
   "source": [
    "import cv2\n",
    "import numpy as np\n",
    "import matplotlib.pyplot as plt\n",
    "%matplotlib inline"
   ]
  },
  {
   "cell_type": "code",
   "execution_count": 2,
   "metadata": {},
   "outputs": [],
   "source": [
    "img = cv2.imread('imgs/ukbench00000.jpg', cv2.IMREAD_COLOR)"
   ]
  },
  {
   "cell_type": "code",
   "execution_count": 59,
   "metadata": {},
   "outputs": [],
   "source": [
    "def calcColorHistCV2(img, mask, histSize, ranges):\n",
    "    if isinstance(histSize, int):\n",
    "        histSize = [histSize]\n",
    "        \n",
    "    hist_blue  = cv2.calcHist([img], channels=[0], mask=mask, histSize=histSize, ranges=ranges).reshape(-1)\n",
    "    hist_green = cv2.calcHist([img], channels=[1], mask=mask, histSize=histSize, ranges=ranges).reshape(-1)\n",
    "    hist_red   = cv2.calcHist([img], channels=[2], mask=mask, histSize=histSize, ranges=ranges).reshape(-1)\n",
    "    \n",
    "    hist_color = np.concatenate((hist_blue, hist_green, hist_red))\n",
    "    return hist_color"
   ]
  },
  {
   "cell_type": "code",
   "execution_count": 60,
   "metadata": {},
   "outputs": [],
   "source": [
    "def calcColorHist(img, mask, histSize, ranges):        \n",
    "    hist_blue, _  = calcHist(img, channel=0, mask=mask, histSize=histSize, ranges=ranges)\n",
    "    hist_green, _ = calcHist(img, channel=1, mask=mask, histSize=histSize, ranges=ranges)\n",
    "    hist_red, _   = calcHist(img, channel=2, mask=mask, histSize=histSize, ranges=ranges)\n",
    "    \n",
    "    hist_color = np.concatenate((hist_blue, hist_green, hist_red))\n",
    "    return hist_color"
   ]
  },
  {
   "cell_type": "code",
   "execution_count": 78,
   "metadata": {},
   "outputs": [],
   "source": [
    "def calcHist(img, channel, mask, histSize, ranges):\n",
    "    left_boundary, right_boundary = ranges\n",
    "    bin_width = (right_boundary - left_boundary) / histSize\n",
    "    \n",
    "    data = img[..., channel]\n",
    "    if mask:\n",
    "        data = data[mask]\n",
    "    \n",
    "    # inclusive left, exclusive right\n",
    "    data = data[np.logical_and(left_boundary <= data, data < right_boundary)]\n",
    "    \n",
    "    ticks = np.linspace(start=left_boundary, stop=right_boundary, num=histSize+1) # number of bins = number of ticks - 1\n",
    "    intervals = np.stack((ticks[:-1], ticks[1:]), axis=-1)\n",
    "    \n",
    "    # shift and stretch domain, so that floor gives sequence number (= bin number)\n",
    "    data = ((data - left_boundary) / bin_width).astype(np.int32)\n",
    "    \n",
    "    bin_counts = np.zeros(histSize, dtype=np.float32)\n",
    "    bin_numbers, nonzero_bin_counts = np.unique(data, return_counts=True)\n",
    "    bin_counts[bin_numbers] = nonzero_bin_counts\n",
    "    \n",
    "    return bin_counts, intervals"
   ]
  },
  {
   "cell_type": "code",
   "execution_count": 79,
   "metadata": {},
   "outputs": [],
   "source": [
    "ff = calcColorHistCV2(img, None, 256, [0, 256])"
   ]
  },
  {
   "cell_type": "code",
   "execution_count": 83,
   "metadata": {},
   "outputs": [],
   "source": [
    "ff2 = calcColorHist(img, None, 256, [0, 256])"
   ]
  },
  {
   "cell_type": "code",
   "execution_count": 85,
   "metadata": {},
   "outputs": [
    {
     "data": {
      "text/plain": [
       "True"
      ]
     },
     "execution_count": 85,
     "metadata": {},
     "output_type": "execute_result"
    }
   ],
   "source": [
    "np.all(ff == ff2)"
   ]
  },
  {
   "cell_type": "code",
   "execution_count": 81,
   "metadata": {},
   "outputs": [
    {
     "data": {
      "text/plain": [
       "dtype('float32')"
      ]
     },
     "execution_count": 81,
     "metadata": {},
     "output_type": "execute_result"
    }
   ],
   "source": [
    "ff.dtype"
   ]
  },
  {
   "cell_type": "code",
   "execution_count": 65,
   "metadata": {},
   "outputs": [
    {
     "data": {
      "text/plain": [
       "True"
      ]
     },
     "execution_count": 65,
     "metadata": {},
     "output_type": "execute_result"
    }
   ],
   "source": [
    "np.all(calcColorHistCV2(img, None, 256, [0, 256]) == calcColorHist(img, None, 256, [0, 256]))"
   ]
  },
  {
   "cell_type": "code",
   "execution_count": 51,
   "metadata": {},
   "outputs": [],
   "source": [
    "bin_counts, intervals = calcHist(img, 0, None, 256, [0, 256])"
   ]
  },
  {
   "cell_type": "code",
   "execution_count": 54,
   "metadata": {},
   "outputs": [],
   "source": [
    "hist_blue  = cv2.calcHist([img], channels=[0], mask=None, histSize=[256], ranges=[0, 256])\n",
    "hist_green = cv2.calcHist([img], channels=[1], mask=None, histSize=[256], ranges=[0, 256])\n",
    "hist_red   = cv2.calcHist([img], channels=[2], mask=None, histSize=[256], ranges=[0, 256])"
   ]
  },
  {
   "cell_type": "code",
   "execution_count": 33,
   "metadata": {},
   "outputs": [],
   "source": [
    "x = np.array(range(256))"
   ]
  },
  {
   "cell_type": "code",
   "execution_count": 20,
   "metadata": {},
   "outputs": [
    {
     "data": {
      "text/plain": [
       "(256, 1)"
      ]
     },
     "execution_count": 20,
     "metadata": {},
     "output_type": "execute_result"
    }
   ],
   "source": [
    "hist.shape"
   ]
  },
  {
   "cell_type": "code",
   "execution_count": 35,
   "metadata": {},
   "outputs": [
    {
     "data": {
      "image/png": "[encoded data removed]",
      "text/plain": [
       "<Figure size 1440x720 with 1 Axes>"
      ]
     },
     "metadata": {
      "needs_background": "light"
     },
     "output_type": "display_data"
    }
   ],
   "source": [
    "plt.figure(figsize=(20,10))\n",
    "plt.bar(x=x, height=hist.reshape(-1), width=0.5, color='red');"
   ]
  },
  {
   "cell_type": "code",
   "execution_count": 24,
   "metadata": {},
   "outputs": [
    {
     "data": {
      "text/plain": [
       "(array([1, 3, 4, 6, 7, 9]), array([0, 0, 0, 0, 0, 0]))"
      ]
     },
     "execution_count": 24,
     "metadata": {},
     "output_type": "execute_result"
    }
   ],
   "source": [
    "np.where(hist==0)"
   ]
  },
  {
   "cell_type": "code",
   "execution_count": null,
   "metadata": {},
   "outputs": [],
   "source": []
  }
 ],
 "metadata": {
  "kernelspec": {
   "display_name": "Python 3",
   "language": "python",
   "name": "python3"
  },
  "language_info": {
   "codemirror_mode": {
    "name": "ipython",
    "version": 3
   },
   "file_extension": ".py",
   "mimetype": "text/x-python",
   "name": "python",
   "nbconvert_exporter": "python",
   "pygments_lexer": "ipython3",
   "version": "3.6.8"
  }
 },
 "nbformat": 4,
 "nbformat_minor": 2
}
