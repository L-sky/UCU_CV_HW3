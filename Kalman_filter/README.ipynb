{
 "cells": [
  {
   "cell_type": "markdown",
   "metadata": {},
   "source": [
    "## Kalman filter"
   ]
  },
  {
   "cell_type": "markdown",
   "metadata": {},
   "source": [
    "Smoothing of noisy mouse cursor position. "
   ]
  },
  {
   "cell_type": "markdown",
   "metadata": {},
   "source": [
    "### Process model"
   ]
  },
  {
   "cell_type": "markdown",
   "metadata": {},
   "source": [
    "$x_{t+1} = Fx_{t} + w_{t}$"
   ]
  },
  {
   "cell_type": "markdown",
   "metadata": {},
   "source": [
    "$x_t$ is a state vector containing coordinates and velocities $[x, v_x, y, v_y]^T_t$"
   ]
  },
  {
   "cell_type": "markdown",
   "metadata": {},
   "source": [
    "$F=\\begin{pmatrix} 1 & dt & 0 & 0\\\\ 0 & 1 & 0 & 0\\\\ 0 & 0 & 1 & dt\\\\ 0 & 0 & 0 & 1 \\end{pmatrix}$ - state transition matrix, basically linear change of coordinates and constant velocity. "
   ]
  },
  {
   "cell_type": "markdown",
   "metadata": {},
   "source": [
    "$w_t$ - noise input with covariance $Q$, all things we miss with linear model hidden here (primaraly acceleration)."
   ]
  },
  {
   "cell_type": "markdown",
   "metadata": {},
   "source": [
    "### Measurement model"
   ]
  },
  {
   "cell_type": "markdown",
   "metadata": {},
   "source": [
    "$z_{t+1} = Hx_{t+1} + n_{t+1}$"
   ]
  },
  {
   "cell_type": "markdown",
   "metadata": {},
   "source": [
    "$x_{t+1}$ is a state vector containing coordinates and velocities $[x, v_x, y, v_y]^T_{t+1}$"
   ]
  },
  {
   "cell_type": "markdown",
   "metadata": {},
   "source": [
    "$z_{t+1}$ is a \"sensor\" data (measurement), also contains coordinates and velocities, but noisy"
   ]
  },
  {
   "cell_type": "markdown",
   "metadata": {},
   "source": [
    "$H = \\begin{pmatrix}1 & 0 & 0 & 0\\\\ 0 & 1 & 0 & 0\\\\ 0 & 0 & 1 & 0\\\\ 0 & 0 & 0 & 1\\end{pmatrix}$ - sensor function (keep as is)"
   ]
  },
  {
   "cell_type": "markdown",
   "metadata": {},
   "source": [
    "$n_{t+1}$ - sensor noise with a covariance $R$"
   ]
  },
  {
   "cell_type": "markdown",
   "metadata": {},
   "source": [
    "**Note**: usually the most noise we have for mouse cursor position is a quantization noise (unit uniform noise), which is not particularly illustrative, so in presented experiment artificial noise to positions and velocities introduced. "
   ]
  },
  {
   "cell_type": "markdown",
   "metadata": {},
   "source": [
    "### Demonstration"
   ]
  },
  {
   "cell_type": "markdown",
   "metadata": {},
   "source": [
    "Check output.avi (generated using mouseCapture.py)."
   ]
  }
 ],
 "metadata": {
  "kernelspec": {
   "display_name": "Python 3",
   "language": "python",
   "name": "python3"
  },
  "language_info": {
   "codemirror_mode": {
    "name": "ipython",
    "version": 3
   },
   "file_extension": ".py",
   "mimetype": "text/x-python",
   "name": "python",
   "nbconvert_exporter": "python",
   "pygments_lexer": "ipython3",
   "version": "3.7.3"
  }
 },
 "nbformat": 4,
 "nbformat_minor": 2
}
