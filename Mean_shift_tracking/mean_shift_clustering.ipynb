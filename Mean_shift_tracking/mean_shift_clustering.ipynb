{
 "cells": [
  {
   "cell_type": "code",
   "execution_count": 1,
   "metadata": {},
   "outputs": [],
   "source": [
    "import numpy as np"
   ]
  },
  {
   "cell_type": "code",
   "execution_count": 2,
   "metadata": {},
   "outputs": [],
   "source": [
    "def meanShiftClustering(data, window, stop_criteria, param):\n",
    "    def euclidean_multiple_distance(p_array, p):\n",
    "        return np.sqrt(np.square(p_array - p).sum(axis=1))\n",
    "\n",
    "    def gaussian_kernel(distance, param):\n",
    "        return np.exp(-0.5 * np.square(distance/param['sigma'])) / (param['sigma'] * np.sqrt(2*np.pi))\n",
    "\n",
    "    def mean_shift_iteration(data, point, window, distance_multiple_func, kernel, param):\n",
    "        distances = distance_multiple_func(data, point)\n",
    "        neighbors_idx = np.where(distances < window)[0]\n",
    "        neighbors = data[neighbors_idx]\n",
    "        neighbors_distances = distances[neighbors_idx]\n",
    "        weights = kernel(neighbors_distances, param)\n",
    "        centroid = (weights[:, np.newaxis] * neighbors).sum(axis=0) / weights.sum()\n",
    "        return centroid\n",
    "\n",
    "    distance_multiple_func = euclidean_multiple_distance\n",
    "    kernel = gaussian_kernel\n",
    "\n",
    "    max_iter = stop_criteria['max_iter']\n",
    "    epsilon = stop_criteria['epsilon']\n",
    "\n",
    "    converged = False\n",
    "    data = data.copy()\n",
    "    for i in range(max_iter):\n",
    "        data_new = np.stack([mean_shift_iteration(data, point, window, distance_multiple_func, kernel, param) for point in data])\n",
    "        max_shift = np.max(distance_multiple_func(data_new, data))\n",
    "        data = data_new\n",
    "        if max_shift < epsilon:\n",
    "            converged = True\n",
    "            break\n",
    "\n",
    "    return data, converged"
   ]
  },
  {
   "cell_type": "code",
   "execution_count": 4,
   "metadata": {},
   "outputs": [],
   "source": [
    "# data = np.loadtxt('data/g2-txt/g2-32-60.txt')\n",
    "data = np.loadtxt('data/s/s1.txt')\n",
    "window = 200000\n",
    "stop_criteria = {'max_iter': 50, 'epsilon': 0.1}\n",
    "param = {'sigma': 5.0}\n",
    "\n",
    "new_data, converged = meanShiftClustering(data, window, stop_criteria, param)"
   ]
  },
  {
   "cell_type": "code",
   "execution_count": 5,
   "metadata": {},
   "outputs": [
    {
     "name": "stdout",
     "output_type": "stream",
     "text": [
      "True\n",
      "[[664159. 550946.]\n",
      " [665845. 557965.]\n",
      " [597173. 575538.]\n",
      " ...\n",
      " [650661. 861267.]\n",
      " [599647. 858702.]\n",
      " [684091. 842566.]]\n"
     ]
    }
   ],
   "source": [
    "print(converged)\n",
    "print(new_data)"
   ]
  },
  {
   "cell_type": "code",
   "execution_count": null,
   "metadata": {},
   "outputs": [],
   "source": []
  }
 ],
 "metadata": {
  "kernelspec": {
   "display_name": "Python 3",
   "language": "python",
   "name": "python3"
  },
  "language_info": {
   "codemirror_mode": {
    "name": "ipython",
    "version": 3
   },
   "file_extension": ".py",
   "mimetype": "text/x-python",
   "name": "python",
   "nbconvert_exporter": "python",
   "pygments_lexer": "ipython3",
   "version": "3.6.8"
  }
 },
 "nbformat": 4,
 "nbformat_minor": 2
}
